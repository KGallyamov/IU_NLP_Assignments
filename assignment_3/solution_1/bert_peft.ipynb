{
 "cells": [
  {
   "cell_type": "code",
   "execution_count": 1,
   "id": "09c2eccb",
   "metadata": {
    "execution": {
     "iopub.execute_input": "2024-04-26T17:55:05.767751Z",
     "iopub.status.busy": "2024-04-26T17:55:05.766868Z",
     "iopub.status.idle": "2024-04-26T17:55:06.837631Z",
     "shell.execute_reply": "2024-04-26T17:55:06.836180Z",
     "shell.execute_reply.started": "2024-04-26T17:55:05.767712Z"
    }
   },
   "outputs": [],
   "source": [
    "!mkdir data"
   ]
  },
  {
   "cell_type": "code",
   "execution_count": 2,
   "id": "7552d84a",
   "metadata": {
    "execution": {
     "iopub.execute_input": "2024-04-26T17:55:06.840094Z",
     "iopub.status.busy": "2024-04-26T17:55:06.839769Z",
     "iopub.status.idle": "2024-04-26T17:55:22.198988Z",
     "shell.execute_reply": "2024-04-26T17:55:22.197649Z",
     "shell.execute_reply.started": "2024-04-26T17:55:06.840066Z"
    }
   },
   "outputs": [],
   "source": [
    "%%capture\n",
    "!pip install gdown"
   ]
  },
  {
   "cell_type": "code",
   "execution_count": 3,
   "id": "4b0650af",
   "metadata": {
    "execution": {
     "iopub.execute_input": "2024-04-26T17:55:22.200700Z",
     "iopub.status.busy": "2024-04-26T17:55:22.200414Z",
     "iopub.status.idle": "2024-04-26T17:55:26.448594Z",
     "shell.execute_reply": "2024-04-26T17:55:26.447516Z",
     "shell.execute_reply.started": "2024-04-26T17:55:22.200674Z"
    }
   },
   "outputs": [
    {
     "name": "stdout",
     "output_type": "stream",
     "text": [
      "Downloading...\n",
      "From: https://drive.google.com/uc?id=10nb-yVKttNsZ-UUqlFxxZ8pZfZo2Bjkz\n",
      "To: /kaggle/working/data/train.jsonl\n",
      "100%|███████████████████████████████████████| 4.87M/4.87M [00:00<00:00, 185MB/s]\n",
      "Downloading...\n",
      "From: https://drive.google.com/uc?id=19gqhWlyEKo2d_j3dk7Hxz4LX0M6do0s_\n",
      "To: /kaggle/working/data/test.jsonl\n",
      "100%|█████████████████████████████████████████| 507k/507k [00:00<00:00, 105MB/s]\n"
     ]
    }
   ],
   "source": [
    "!cd data && gdown \"10nb-yVKttNsZ-UUqlFxxZ8pZfZo2Bjkz\" && gdown \"19gqhWlyEKo2d_j3dk7Hxz4LX0M6do0s_\""
   ]
  },
  {
   "cell_type": "code",
   "execution_count": 4,
   "id": "5cff7444",
   "metadata": {
    "execution": {
     "iopub.execute_input": "2024-04-26T17:55:26.451917Z",
     "iopub.status.busy": "2024-04-26T17:55:26.451533Z",
     "iopub.status.idle": "2024-04-26T17:55:51.414269Z",
     "shell.execute_reply": "2024-04-26T17:55:51.412826Z",
     "shell.execute_reply.started": "2024-04-26T17:55:26.451877Z"
    }
   },
   "outputs": [],
   "source": [
    "!pip install -q peft transformers datasets evaluate seqeval accelerate bitsandbytes trl"
   ]
  },
  {
   "cell_type": "code",
   "execution_count": 5,
   "id": "963c86b6",
   "metadata": {
    "execution": {
     "iopub.execute_input": "2024-04-26T17:55:51.417367Z",
     "iopub.status.busy": "2024-04-26T17:55:51.416582Z",
     "iopub.status.idle": "2024-04-26T17:56:11.969196Z",
     "shell.execute_reply": "2024-04-26T17:56:11.968035Z",
     "shell.execute_reply.started": "2024-04-26T17:55:51.417330Z"
    }
   },
   "outputs": [
    {
     "name": "stderr",
     "output_type": "stream",
     "text": [
      "2024-04-26 17:56:01.333981: E external/local_xla/xla/stream_executor/cuda/cuda_dnn.cc:9261] Unable to register cuDNN factory: Attempting to register factory for plugin cuDNN when one has already been registered\n",
      "2024-04-26 17:56:01.334133: E external/local_xla/xla/stream_executor/cuda/cuda_fft.cc:607] Unable to register cuFFT factory: Attempting to register factory for plugin cuFFT when one has already been registered\n",
      "2024-04-26 17:56:01.477560: E external/local_xla/xla/stream_executor/cuda/cuda_blas.cc:1515] Unable to register cuBLAS factory: Attempting to register factory for plugin cuBLAS when one has already been registered\n"
     ]
    }
   ],
   "source": [
    "from tokenizers import BertWordPieceTokenizer, ByteLevelBPETokenizer\n",
    "from transformers import AutoModelForTokenClassification, TrainingArguments, Trainer\n",
    "from transformers import DataCollatorForTokenClassification, AutoTokenizer\n",
    "from transformers import pipeline\n",
    "from peft import IA3Config, TaskType, get_peft_model, LoraConfig\n",
    "import json\n",
    "import random\n",
    "import pandas as pd\n",
    "import numpy as np\n",
    "import evaluate\n",
    "import torch\n",
    "from torch.utils.data import Dataset\n",
    "from torch.utils.data import DataLoader\n",
    "from datasets import load_dataset\n",
    "from sklearn.model_selection import train_test_split\n",
    "from tqdm.auto import tqdm\n",
    "\n",
    "import os\n",
    "import warnings\n",
    "\n",
    "warnings.filterwarnings('ignore')\n",
    "\n",
    "np.random.seed(0)\n",
    "torch.manual_seed(0)\n",
    "random.seed(0)"
   ]
  },
  {
   "cell_type": "code",
   "execution_count": 6,
   "id": "45e7f36e",
   "metadata": {
    "execution": {
     "iopub.execute_input": "2024-04-26T17:56:11.972210Z",
     "iopub.status.busy": "2024-04-26T17:56:11.970860Z",
     "iopub.status.idle": "2024-04-26T17:56:12.931581Z",
     "shell.execute_reply": "2024-04-26T17:56:12.930420Z",
     "shell.execute_reply.started": "2024-04-26T17:56:11.972165Z"
    }
   },
   "outputs": [
    {
     "data": {
      "application/vnd.jupyter.widget-view+json": {
       "model_id": "71fb4225b13f4f30a78182985bf69aa0",
       "version_major": 2,
       "version_minor": 0
      },
      "text/plain": [
       "config.json:   0%|          | 0.00/674 [00:00<?, ?B/s]"
      ]
     },
     "metadata": {},
     "output_type": "display_data"
    },
    {
     "data": {
      "application/vnd.jupyter.widget-view+json": {
       "model_id": "504ba168fb514a2aaf1960472d1756a8",
       "version_major": 2,
       "version_minor": 0
      },
      "text/plain": [
       "vocab.json:   0%|          | 0.00/1.81M [00:00<?, ?B/s]"
      ]
     },
     "metadata": {},
     "output_type": "display_data"
    },
    {
     "data": {
      "application/vnd.jupyter.widget-view+json": {
       "model_id": "a3326beda6ca41abbba74e93b7aef3be",
       "version_major": 2,
       "version_minor": 0
      },
      "text/plain": [
       "merges.txt:   0%|          | 0.00/1.37M [00:00<?, ?B/s]"
      ]
     },
     "metadata": {},
     "output_type": "display_data"
    }
   ],
   "source": [
    "model_name =  'ai-forever/ruRoberta-large' # 'DeepPavlov/rubert-base-cased'\n",
    "wp_tokenizer = AutoTokenizer.from_pretrained(model_name)"
   ]
  },
  {
   "cell_type": "code",
   "execution_count": 7,
   "id": "a39bb1e2",
   "metadata": {
    "execution": {
     "iopub.execute_input": "2024-04-26T17:56:12.934108Z",
     "iopub.status.busy": "2024-04-26T17:56:12.933284Z",
     "iopub.status.idle": "2024-04-26T17:56:12.947305Z",
     "shell.execute_reply": "2024-04-26T17:56:12.946294Z",
     "shell.execute_reply.started": "2024-04-26T17:56:12.934068Z"
    }
   },
   "outputs": [
    {
     "data": {
      "text/plain": [
       "{'input_ids': [1, 44, 9691, 83, 67, 7889, 10524, 2], 'token_type_ids': [0, 0, 0, 0, 0, 0, 0, 0], 'attention_mask': [1, 1, 1, 1, 1, 1, 1, 1], 'special_tokens_mask': [1, 0, 0, 0, 0, 0, 0, 1], 'offset_mapping': [(0, 0), (0, 1), (1, 4), (4, 5), (5, 6), (6, 8), (8, 11), (0, 0)]}"
      ]
     },
     "execution_count": 7,
     "metadata": {},
     "output_type": "execute_result"
    }
   ],
   "source": [
    "wp_tokenizer.encode_plus(\"Hello_there\", return_token_type_ids=True, return_special_tokens_mask=True, return_offsets_mapping=True)"
   ]
  },
  {
   "cell_type": "code",
   "execution_count": 8,
   "id": "8768c377",
   "metadata": {
    "execution": {
     "iopub.execute_input": "2024-04-26T17:56:12.948967Z",
     "iopub.status.busy": "2024-04-26T17:56:12.948630Z",
     "iopub.status.idle": "2024-04-26T17:56:12.957018Z",
     "shell.execute_reply": "2024-04-26T17:56:12.955899Z",
     "shell.execute_reply.started": "2024-04-26T17:56:12.948940Z"
    }
   },
   "outputs": [],
   "source": [
    "NERS = ['AGE', 'AWARD', 'CITY', 'COUNTRY', 'CRIME', 'DATE', 'DISEASE', 'DISTRICT', 'EVENT', 'FACILITY', 'FAMILY', \n",
    "        'IDEOLOGY', 'LANGUAGE', 'LAW', 'LOCATION', 'MONEY', 'NATIONALITY', 'NUMBER', 'ORDINAL', 'ORGANIZATION', \n",
    "        'PENALTY', 'PERCENT', 'PERSON', 'PRODUCT', 'PROFESSION', 'RELIGION', 'STATE_OR_PROVINCE', 'TIME', 'WORK_OF_ART'\n",
    "]"
   ]
  },
  {
   "cell_type": "code",
   "execution_count": 9,
   "id": "bed0d4de",
   "metadata": {
    "execution": {
     "iopub.execute_input": "2024-04-26T17:56:12.958736Z",
     "iopub.status.busy": "2024-04-26T17:56:12.958399Z",
     "iopub.status.idle": "2024-04-26T17:56:12.984689Z",
     "shell.execute_reply": "2024-04-26T17:56:12.983621Z",
     "shell.execute_reply.started": "2024-04-26T17:56:12.958710Z"
    }
   },
   "outputs": [],
   "source": [
    "# Code adapted from https://github.com/dialogue-evaluation/RuNNE/blob/main/baseline/iobes_flat_dataset.py\n",
    "class IOBESFlatRuNNEDataset(Dataset):\n",
    "\n",
    "    def __init__(self, dataset, tokenizer, max_length):\n",
    "        self.tokenizer = tokenizer\n",
    "        self.max_length = max_length\n",
    "        self.all_data = dataset\n",
    "\n",
    "        # Filter entities, leave lowest-level ones\n",
    "        flat_data = []\n",
    "        for c in self.all_data:\n",
    "            flats = []\n",
    "            for ec in c[\"entities\"]:\n",
    "                start = ec[\"start\"]\n",
    "                end = ec[\"end\"]\n",
    "                # Lowest-level entities\n",
    "                if len([e for e in c[\"entities\"] if e[\"start\"] >= start and e[\"end\"] < end or e[\"start\"] > start and e[\"end\"] <= end]) == 0:\n",
    "                    flats.append(ec)\n",
    "            flat_data.append({**c, \"entities\" : flats})\n",
    "        self.flat_data = flat_data\n",
    "        \n",
    "        # Convert entites bound to token-wise labels\n",
    "        new_data = []\n",
    "        for c in self.flat_data:\n",
    "            context = c[\"context\"]\n",
    "            encodings = self.tokenizer.encode_plus(context, return_token_type_ids=True, return_special_tokens_mask=True, return_offsets_mapping=True)\n",
    "            tokens = encodings['input_ids']\n",
    "            offsets = encodings['offset_mapping']\n",
    "            attention_mask = encodings['attention_mask']\n",
    "\n",
    "            origin_offset2token_idx_start = {}\n",
    "            origin_offset2token_idx_end = {}\n",
    "            for token_idx in range(len(tokens)):\n",
    "                token_start, token_end = offsets[token_idx]\n",
    "                # skip [CLS] or [SEP]\n",
    "                if token_start == token_end == 0:\n",
    "                    continue\n",
    "\n",
    "                token_end -= 1\n",
    "                origin_offset2token_idx_start[token_start] = token_idx\n",
    "                origin_offset2token_idx_end[token_end] = token_idx\n",
    "            \n",
    "            valid_entities = []\n",
    "            # Convert char indices for entities into token indices\n",
    "            for e in c[\"entities\"]:\n",
    "                start = e[\"start\"]\n",
    "                end = e[\"end\"]\n",
    "                try:\n",
    "                    new_start = origin_offset2token_idx_start[start]\n",
    "                    new_end = origin_offset2token_idx_end[end]\n",
    "                except KeyError:\n",
    "                    pass\n",
    "\n",
    "                valid_entities.append({\n",
    "                        **e,\n",
    "                        \"tl_start\" : new_start,\n",
    "                        \"tl_end\" : new_end\n",
    "                    })\n",
    "            new_data.append({\n",
    "                    **c,\n",
    "                    \"entities\" : valid_entities,\n",
    "                    \"tokens\" : tokens,\n",
    "                    \"attention_mask\" : attention_mask,\n",
    "                    \"offsets\" : offsets,\n",
    "                })\n",
    "\n",
    "        self.flat_data = new_data\n",
    "\n",
    "        labeled_data = []\n",
    "        # IOBES labeling\n",
    "        for c in self.flat_data:\n",
    "            labels = []\n",
    "            for e in c[\"entities\"]:\n",
    "                labels.append((e[\"tag\"], e[\"tl_start\"], e[\"tl_end\"]))\n",
    "            label_seq = [\"O\"] * len(c[\"tokens\"])\n",
    "\n",
    "            for tag, start, end in labels:\n",
    "                if start == end: # S\n",
    "                    label_seq[start] = 'S-' + tag\n",
    "                else: # BI*E\n",
    "                    label_seq[start] = 'B-' + tag \n",
    "                    label_seq[end] = 'E-' + tag \n",
    "                    for i in range(start + 1, end):\n",
    "                        label_seq[i] = 'I-' + tag\n",
    "\n",
    "            labeled_data.append({\n",
    "                    **c,\n",
    "                    \"labels\" : label_seq\n",
    "                })\n",
    "\n",
    "        self.data = labeled_data\n",
    "\n",
    "        tags = [t.strip() for t in NERS]\n",
    "\n",
    "        tag_to_id = {}\n",
    "        # IOBES labeling\n",
    "        for idx, tag in enumerate(tags):\n",
    "            tag_to_id['B-' + tag] = idx * 4 + 1\n",
    "            tag_to_id['I-' + tag] = idx * 4 + 2\n",
    "            tag_to_id['E-' + tag] = idx * 4 + 3\n",
    "            tag_to_id['S-' + tag] = idx * 4 + 4\n",
    "        tag_to_id['O'] = 0\n",
    "\n",
    "        self.tag_to_id = tag_to_id\n",
    "\n",
    "    def __len__(self):\n",
    "        return len(self.data)\n",
    "\n",
    "    def __getitem__(self, item):\n",
    "        data = self.data[item]\n",
    "\n",
    "        assert len(data[\"tokens\"]) == len(data[\"attention_mask\"])\n",
    "        assert len(data[\"attention_mask\"]) == len(data[\"labels\"])\n",
    "\n",
    "        labels_ids = [self.tag_to_id[tag] for tag in data[\"labels\"]]\n",
    "\n",
    "        tokens = data[\"tokens\"]\n",
    "        attention_mask = data[\"attention_mask\"]\n",
    "        offsets = data[\"offsets\"]\n",
    "\n",
    "        # truncate to max_len tokens\n",
    "        tokens = tokens[: self.max_length]\n",
    "        attention_mask = attention_mask[: self.max_length]\n",
    "        labels_ids = labels_ids[: self.max_length]\n",
    "        offsets = offsets[: self.max_length]\n",
    "\n",
    "        sep_token = self.tokenizer.sep_token_id\n",
    "        if tokens[-1] != sep_token:\n",
    "            assert len(tokens) == self.max_length\n",
    "            tokens = tokens[: -1] + [sep_token]\n",
    "\n",
    "        return {'input_ids': torch.LongTensor(tokens),\n",
    "                'attention_mask': torch.LongTensor(attention_mask),\n",
    "                'labels': torch.LongTensor(labels_ids)}"
   ]
  },
  {
   "cell_type": "markdown",
   "id": "ea4e86cb",
   "metadata": {},
   "source": [
    "# Prepare train/val/test data"
   ]
  },
  {
   "cell_type": "code",
   "execution_count": 10,
   "id": "479704a9",
   "metadata": {
    "execution": {
     "iopub.execute_input": "2024-04-26T17:56:12.990264Z",
     "iopub.status.busy": "2024-04-26T17:56:12.989959Z",
     "iopub.status.idle": "2024-04-26T17:56:15.152868Z",
     "shell.execute_reply": "2024-04-26T17:56:15.151912Z",
     "shell.execute_reply.started": "2024-04-26T17:56:12.990239Z"
    }
   },
   "outputs": [
    {
     "data": {
      "application/vnd.jupyter.widget-view+json": {
       "model_id": "9b608014932845afadceb15be3e6bb31",
       "version_major": 2,
       "version_minor": 0
      },
      "text/plain": [
       "Downloading builder script:   0%|          | 0.00/3.37k [00:00<?, ?B/s]"
      ]
     },
     "metadata": {},
     "output_type": "display_data"
    },
    {
     "data": {
      "application/vnd.jupyter.widget-view+json": {
       "model_id": "26c3ace86b0a480f90d630f41147be1a",
       "version_major": 2,
       "version_minor": 0
      },
      "text/plain": [
       "Downloading readme:   0%|          | 0.00/2.35k [00:00<?, ?B/s]"
      ]
     },
     "metadata": {},
     "output_type": "display_data"
    },
    {
     "data": {
      "application/vnd.jupyter.widget-view+json": {
       "model_id": "53e8b9ac4a46461fbb96d79b5a44025b",
       "version_major": 2,
       "version_minor": 0
      },
      "text/plain": [
       "Downloading data:   0%|          | 0.00/1.93M [00:00<?, ?B/s]"
      ]
     },
     "metadata": {},
     "output_type": "display_data"
    },
    {
     "data": {
      "application/vnd.jupyter.widget-view+json": {
       "model_id": "64424b47fc3c4de5b0de67ec95884c73",
       "version_major": 2,
       "version_minor": 0
      },
      "text/plain": [
       "Downloading data:   0%|          | 0.00/404k [00:00<?, ?B/s]"
      ]
     },
     "metadata": {},
     "output_type": "display_data"
    },
    {
     "data": {
      "application/vnd.jupyter.widget-view+json": {
       "model_id": "f60fda2096ef41758a7fd71b29553a0b",
       "version_major": 2,
       "version_minor": 0
      },
      "text/plain": [
       "Downloading data:   0%|          | 0.00/803k [00:00<?, ?B/s]"
      ]
     },
     "metadata": {},
     "output_type": "display_data"
    },
    {
     "data": {
      "application/vnd.jupyter.widget-view+json": {
       "model_id": "993bcdf72102436fa5fcb73db3c300bf",
       "version_major": 2,
       "version_minor": 0
      },
      "text/plain": [
       "Generating train split: 0 examples [00:00, ? examples/s]"
      ]
     },
     "metadata": {},
     "output_type": "display_data"
    },
    {
     "data": {
      "application/vnd.jupyter.widget-view+json": {
       "model_id": "09ab869519cb4e4b85688f0cabc67818",
       "version_major": 2,
       "version_minor": 0
      },
      "text/plain": [
       "Generating test split: 0 examples [00:00, ? examples/s]"
      ]
     },
     "metadata": {},
     "output_type": "display_data"
    },
    {
     "data": {
      "application/vnd.jupyter.widget-view+json": {
       "model_id": "14e4df6f975e46dbbfe35aa208cb7fad",
       "version_major": 2,
       "version_minor": 0
      },
      "text/plain": [
       "Generating dev split: 0 examples [00:00, ? examples/s]"
      ]
     },
     "metadata": {},
     "output_type": "display_data"
    }
   ],
   "source": [
    "train_data = pd.read_json('data/train.jsonl', lines=True).drop([\"id\"], axis=1)\n",
    "runne_dataset = load_dataset(\"iluvvatar/RuNNE\", trust_remote_code=True)['train'].to_pandas().drop(['id'], axis=1)\n",
    "runne_dataset['entities'] = runne_dataset['entities'].apply(lambda x: [[int(ent.split()[0]),\n",
    "                                                                        int(ent.split()[1]) - 1,\n",
    "                                                                        ent.split()[2]] for ent in x])\n",
    "train_data = pd.concat([runne_dataset.rename(columns={'text': 'sentences', 'entities': 'ners'}),\n",
    "                        train_data], ignore_index=True)"
   ]
  },
  {
   "cell_type": "code",
   "execution_count": 11,
   "id": "3b55a934",
   "metadata": {
    "execution": {
     "iopub.execute_input": "2024-04-26T17:56:15.154443Z",
     "iopub.status.busy": "2024-04-26T17:56:15.154122Z",
     "iopub.status.idle": "2024-04-26T17:56:15.544900Z",
     "shell.execute_reply": "2024-04-26T17:56:15.543865Z",
     "shell.execute_reply.started": "2024-04-26T17:56:15.154416Z"
    }
   },
   "outputs": [
    {
     "data": {
      "text/plain": [
       "(980, 461, 519)"
      ]
     },
     "execution_count": 11,
     "metadata": {},
     "output_type": "execute_result"
    }
   ],
   "source": [
    "len(train_data), len(runne_dataset), len(pd.read_json('data/train.jsonl', lines=True))"
   ]
  },
  {
   "cell_type": "code",
   "execution_count": 12,
   "id": "68345301",
   "metadata": {
    "execution": {
     "iopub.execute_input": "2024-04-26T17:56:15.546778Z",
     "iopub.status.busy": "2024-04-26T17:56:15.546374Z",
     "iopub.status.idle": "2024-04-26T17:56:15.561373Z",
     "shell.execute_reply": "2024-04-26T17:56:15.560343Z",
     "shell.execute_reply.started": "2024-04-26T17:56:15.546737Z"
    }
   },
   "outputs": [
    {
     "data": {
      "text/plain": [
       "796"
      ]
     },
     "execution_count": 12,
     "metadata": {},
     "output_type": "execute_result"
    }
   ],
   "source": [
    "train_data = train_data.drop_duplicates(subset='sentences')\n",
    "len(train_data)"
   ]
  },
  {
   "cell_type": "code",
   "execution_count": 13,
   "id": "9cc630fe",
   "metadata": {
    "execution": {
     "iopub.execute_input": "2024-04-26T17:56:15.562903Z",
     "iopub.status.busy": "2024-04-26T17:56:15.562600Z",
     "iopub.status.idle": "2024-04-26T17:56:15.574817Z",
     "shell.execute_reply": "2024-04-26T17:56:15.573890Z",
     "shell.execute_reply.started": "2024-04-26T17:56:15.562872Z"
    }
   },
   "outputs": [],
   "source": [
    "train_data, val_data = train_test_split(train_data, train_size=0.8, random_state=0)"
   ]
  },
  {
   "cell_type": "code",
   "execution_count": 14,
   "id": "a65c209b",
   "metadata": {
    "execution": {
     "iopub.execute_input": "2024-04-26T17:56:15.576471Z",
     "iopub.status.busy": "2024-04-26T17:56:15.576137Z",
     "iopub.status.idle": "2024-04-26T17:56:15.610767Z",
     "shell.execute_reply": "2024-04-26T17:56:15.609668Z",
     "shell.execute_reply.started": "2024-04-26T17:56:15.576433Z"
    }
   },
   "outputs": [],
   "source": [
    "# List of dict{'entities': {'tag', 'start', 'end'}, 'context'}\n",
    "train_dataset = []\n",
    "for ners, sentence in zip(train_data.ners, train_data.sentences):\n",
    "    train_dataset.append({\n",
    "        'entities': [{'tag': x[2], 'start': x[0], 'end': x[1]} for x in ners],\n",
    "        'context': sentence\n",
    "    })\n",
    "\n",
    "val_dataset = []\n",
    "for ners, sentence in zip(val_data.ners, val_data.sentences):\n",
    "    val_dataset.append({\n",
    "        'entities': [{'tag': x[2], 'start': x[0], 'end': x[1]} for x in ners],\n",
    "        'context': sentence\n",
    "    })"
   ]
  },
  {
   "cell_type": "code",
   "execution_count": 15,
   "id": "a901ec25",
   "metadata": {
    "execution": {
     "iopub.execute_input": "2024-04-26T17:56:15.612437Z",
     "iopub.status.busy": "2024-04-26T17:56:15.612131Z",
     "iopub.status.idle": "2024-04-26T17:56:18.291570Z",
     "shell.execute_reply": "2024-04-26T17:56:18.290387Z",
     "shell.execute_reply.started": "2024-04-26T17:56:15.612411Z"
    }
   },
   "outputs": [],
   "source": [
    "flat_train_dataset = IOBESFlatRuNNEDataset(dataset = train_dataset, \n",
    "                                     tokenizer = wp_tokenizer,\n",
    "                                     max_length = 512)\n",
    "\n",
    "flat_val_dataset = IOBESFlatRuNNEDataset(dataset = val_dataset, \n",
    "                                     tokenizer = wp_tokenizer,\n",
    "                                     max_length = 512)"
   ]
  },
  {
   "cell_type": "code",
   "execution_count": 16,
   "id": "72846d7f",
   "metadata": {
    "execution": {
     "iopub.execute_input": "2024-04-26T17:56:18.293251Z",
     "iopub.status.busy": "2024-04-26T17:56:18.292926Z",
     "iopub.status.idle": "2024-04-26T17:56:18.298335Z",
     "shell.execute_reply": "2024-04-26T17:56:18.297331Z",
     "shell.execute_reply.started": "2024-04-26T17:56:18.293223Z"
    }
   },
   "outputs": [],
   "source": [
    "data_collator = DataCollatorForTokenClassification(wp_tokenizer)"
   ]
  },
  {
   "cell_type": "markdown",
   "id": "31fba74e",
   "metadata": {},
   "source": [
    "# Prepare train"
   ]
  },
  {
   "cell_type": "code",
   "execution_count": 17,
   "id": "0fe13a9a",
   "metadata": {
    "execution": {
     "iopub.execute_input": "2024-04-26T17:56:18.300586Z",
     "iopub.status.busy": "2024-04-26T17:56:18.299846Z",
     "iopub.status.idle": "2024-04-26T17:56:18.694294Z",
     "shell.execute_reply": "2024-04-26T17:56:18.693381Z",
     "shell.execute_reply.started": "2024-04-26T17:56:18.300522Z"
    }
   },
   "outputs": [
    {
     "data": {
      "application/vnd.jupyter.widget-view+json": {
       "model_id": "c5bbdfc31d2c45bb8e0736b0baba1052",
       "version_major": 2,
       "version_minor": 0
      },
      "text/plain": [
       "Downloading builder script:   0%|          | 0.00/6.34k [00:00<?, ?B/s]"
      ]
     },
     "metadata": {},
     "output_type": "display_data"
    }
   ],
   "source": [
    "seqeval = evaluate.load(\"seqeval\")"
   ]
  },
  {
   "cell_type": "code",
   "execution_count": 18,
   "id": "6f61740e",
   "metadata": {
    "execution": {
     "iopub.execute_input": "2024-04-26T17:56:18.695769Z",
     "iopub.status.busy": "2024-04-26T17:56:18.695479Z",
     "iopub.status.idle": "2024-04-26T17:56:18.701135Z",
     "shell.execute_reply": "2024-04-26T17:56:18.700132Z",
     "shell.execute_reply.started": "2024-04-26T17:56:18.695743Z"
    }
   },
   "outputs": [],
   "source": [
    "label_list = list(flat_train_dataset.tag_to_id.items())\n",
    "label_list.sort(key=lambda x: x[1])\n",
    "label_list = [label[0] for label in label_list]"
   ]
  },
  {
   "cell_type": "code",
   "execution_count": 19,
   "id": "f46903be",
   "metadata": {
    "execution": {
     "iopub.execute_input": "2024-04-26T17:56:18.702810Z",
     "iopub.status.busy": "2024-04-26T17:56:18.702431Z",
     "iopub.status.idle": "2024-04-26T17:56:18.715897Z",
     "shell.execute_reply": "2024-04-26T17:56:18.714923Z",
     "shell.execute_reply.started": "2024-04-26T17:56:18.702783Z"
    }
   },
   "outputs": [],
   "source": [
    "def compute_metrics(p):\n",
    "    predictions, labels = p\n",
    "    predictions = np.argmax(predictions, axis=2)\n",
    "\n",
    "    true_predictions = [\n",
    "        [label_list[p] for (p, l) in zip(prediction, label) if l != -100]\n",
    "        for prediction, label in zip(predictions, labels)\n",
    "    ]\n",
    "    true_labels = [\n",
    "        [label_list[l] for (p, l) in zip(prediction, label) if l != -100]\n",
    "        for prediction, label in zip(predictions, labels)\n",
    "    ]\n",
    "\n",
    "    results = seqeval.compute(predictions=true_predictions, references=true_labels)\n",
    "    return {\n",
    "        \"precision\": results[\"overall_precision\"],\n",
    "        \"recall\": results[\"overall_recall\"],\n",
    "        \"f1\": results[\"overall_f1\"],\n",
    "        \"accuracy\": results[\"overall_accuracy\"],\n",
    "    }"
   ]
  },
  {
   "cell_type": "code",
   "execution_count": 20,
   "id": "befd48e6",
   "metadata": {
    "execution": {
     "iopub.execute_input": "2024-04-26T17:56:18.717618Z",
     "iopub.status.busy": "2024-04-26T17:56:18.717277Z",
     "iopub.status.idle": "2024-04-26T17:56:18.728811Z",
     "shell.execute_reply": "2024-04-26T17:56:18.727827Z",
     "shell.execute_reply.started": "2024-04-26T17:56:18.717547Z"
    }
   },
   "outputs": [],
   "source": [
    "label2id = flat_train_dataset.tag_to_id\n",
    "id2label = {i: label for label, i in label2id.items()}"
   ]
  },
  {
   "cell_type": "code",
   "execution_count": 21,
   "id": "a2ca0141",
   "metadata": {
    "execution": {
     "iopub.execute_input": "2024-04-26T17:56:18.731385Z",
     "iopub.status.busy": "2024-04-26T17:56:18.730195Z",
     "iopub.status.idle": "2024-04-26T17:57:02.867734Z",
     "shell.execute_reply": "2024-04-26T17:57:02.866757Z",
     "shell.execute_reply.started": "2024-04-26T17:56:18.731344Z"
    }
   },
   "outputs": [
    {
     "data": {
      "application/vnd.jupyter.widget-view+json": {
       "model_id": "bc551803e103450ca96fa725373f8301",
       "version_major": 2,
       "version_minor": 0
      },
      "text/plain": [
       "pytorch_model.bin:   0%|          | 0.00/1.42G [00:00<?, ?B/s]"
      ]
     },
     "metadata": {},
     "output_type": "display_data"
    },
    {
     "name": "stderr",
     "output_type": "stream",
     "text": [
      "Some weights of RobertaForTokenClassification were not initialized from the model checkpoint at ai-forever/ruRoberta-large and are newly initialized: ['classifier.bias', 'classifier.weight']\n",
      "You should probably TRAIN this model on a down-stream task to be able to use it for predictions and inference.\n"
     ]
    }
   ],
   "source": [
    "model = AutoModelForTokenClassification.from_pretrained(\n",
    "    model_name, num_labels=29 * 4 + 1, id2label=id2label, label2id=label2id\n",
    ")"
   ]
  },
  {
   "cell_type": "code",
   "execution_count": 22,
   "id": "735add25",
   "metadata": {
    "execution": {
     "iopub.execute_input": "2024-04-26T17:57:02.869781Z",
     "iopub.status.busy": "2024-04-26T17:57:02.869362Z",
     "iopub.status.idle": "2024-04-26T17:57:02.876092Z",
     "shell.execute_reply": "2024-04-26T17:57:02.874852Z",
     "shell.execute_reply.started": "2024-04-26T17:57:02.869741Z"
    }
   },
   "outputs": [],
   "source": [
    "peft_config = IA3Config(\n",
    "    task_type=TaskType.TOKEN_CLS, target_modules=[\"query\", \"key\", \"output.dense\"], feedforward_modules=[\"output.dense\"]\n",
    ")\n",
    "peft_config = LoraConfig(task_type=TaskType.TOKEN_CLS, r=8)"
   ]
  },
  {
   "cell_type": "code",
   "execution_count": 23,
   "id": "11d908ac",
   "metadata": {
    "execution": {
     "iopub.execute_input": "2024-04-26T17:57:02.877676Z",
     "iopub.status.busy": "2024-04-26T17:57:02.877360Z",
     "iopub.status.idle": "2024-04-26T17:57:02.997001Z",
     "shell.execute_reply": "2024-04-26T17:57:02.995835Z",
     "shell.execute_reply.started": "2024-04-26T17:57:02.877648Z"
    }
   },
   "outputs": [],
   "source": [
    "model = get_peft_model(model, peft_config)"
   ]
  },
  {
   "cell_type": "code",
   "execution_count": 24,
   "id": "423105da",
   "metadata": {
    "execution": {
     "iopub.execute_input": "2024-04-26T17:57:02.998734Z",
     "iopub.status.busy": "2024-04-26T17:57:02.998401Z",
     "iopub.status.idle": "2024-04-26T17:57:04.284807Z",
     "shell.execute_reply": "2024-04-26T17:57:04.283618Z",
     "shell.execute_reply.started": "2024-04-26T17:57:02.998707Z"
    }
   },
   "outputs": [],
   "source": [
    "training_args = TrainingArguments(\n",
    "    output_dir=\"checkpoints\",\n",
    "    learning_rate=0.001,\n",
    "    per_device_train_batch_size=8,\n",
    "    per_device_eval_batch_size=8,\n",
    "    gradient_accumulation_steps=2,\n",
    "    num_train_epochs=20,\n",
    "    weight_decay=0.01,\n",
    "    evaluation_strategy=\"epoch\",\n",
    "    save_strategy=\"epoch\",\n",
    "    load_best_model_at_end=True,\n",
    "    save_total_limit=2,\n",
    ")\n",
    "\n",
    "trainer = Trainer(\n",
    "    model=model,\n",
    "    args=training_args,\n",
    "    train_dataset=flat_train_dataset,\n",
    "    eval_dataset=flat_val_dataset,\n",
    "    tokenizer=wp_tokenizer,\n",
    "    data_collator=data_collator,\n",
    "    compute_metrics=compute_metrics,\n",
    ")"
   ]
  },
  {
   "cell_type": "code",
   "execution_count": 25,
   "id": "fd657a56",
   "metadata": {
    "execution": {
     "iopub.execute_input": "2024-04-26T17:57:04.286518Z",
     "iopub.status.busy": "2024-04-26T17:57:04.286185Z",
     "iopub.status.idle": "2024-04-26T17:57:04.409052Z",
     "shell.execute_reply": "2024-04-26T17:57:04.407915Z",
     "shell.execute_reply.started": "2024-04-26T17:57:04.286489Z"
    }
   },
   "outputs": [],
   "source": [
    "import os\n",
    "\n",
    "from kaggle_secrets import UserSecretsClient\n",
    "user_secrets = UserSecretsClient()\n",
    "wandb_api = user_secrets.get_secret(\"wandb_api\")\n",
    "\n",
    "os.environ['WANDB_API_KEY'] = wandb_api"
   ]
  },
  {
   "cell_type": "code",
   "execution_count": 26,
   "id": "e1991ef2",
   "metadata": {
    "execution": {
     "iopub.execute_input": "2024-04-26T17:57:04.410617Z",
     "iopub.status.busy": "2024-04-26T17:57:04.410293Z",
     "iopub.status.idle": "2024-04-26T18:27:25.458156Z",
     "shell.execute_reply": "2024-04-26T18:27:25.456819Z",
     "shell.execute_reply.started": "2024-04-26T17:57:04.410590Z"
    }
   },
   "outputs": [
    {
     "name": "stderr",
     "output_type": "stream",
     "text": [
      "\u001b[34m\u001b[1mwandb\u001b[0m: Currently logged in as: \u001b[33mk-galliamov\u001b[0m. Use \u001b[1m`wandb login --relogin`\u001b[0m to force relogin\n"
     ]
    },
    {
     "data": {
      "text/html": [
       "Tracking run with wandb version 0.16.6"
      ],
      "text/plain": [
       "<IPython.core.display.HTML object>"
      ]
     },
     "metadata": {},
     "output_type": "display_data"
    },
    {
     "data": {
      "text/html": [
       "Run data is saved locally in <code>/kaggle/working/wandb/run-20240426_175706-a3apk3m8</code>"
      ],
      "text/plain": [
       "<IPython.core.display.HTML object>"
      ]
     },
     "metadata": {},
     "output_type": "display_data"
    },
    {
     "data": {
      "text/html": [
       "Syncing run <strong><a href='https://wandb.ai/k-galliamov/huggingface/runs/a3apk3m8' target=\"_blank\">clear-fog-36</a></strong> to <a href='https://wandb.ai/k-galliamov/huggingface' target=\"_blank\">Weights & Biases</a> (<a href='https://wandb.me/run' target=\"_blank\">docs</a>)<br/>"
      ],
      "text/plain": [
       "<IPython.core.display.HTML object>"
      ]
     },
     "metadata": {},
     "output_type": "display_data"
    },
    {
     "data": {
      "text/html": [
       " View project at <a href='https://wandb.ai/k-galliamov/huggingface' target=\"_blank\">https://wandb.ai/k-galliamov/huggingface</a>"
      ],
      "text/plain": [
       "<IPython.core.display.HTML object>"
      ]
     },
     "metadata": {},
     "output_type": "display_data"
    },
    {
     "data": {
      "text/html": [
       " View run at <a href='https://wandb.ai/k-galliamov/huggingface/runs/a3apk3m8' target=\"_blank\">https://wandb.ai/k-galliamov/huggingface/runs/a3apk3m8</a>"
      ],
      "text/plain": [
       "<IPython.core.display.HTML object>"
      ]
     },
     "metadata": {},
     "output_type": "display_data"
    },
    {
     "data": {
      "text/html": [
       "\n",
       "    <div>\n",
       "      \n",
       "      <progress value='800' max='800' style='width:300px; height:20px; vertical-align: middle;'></progress>\n",
       "      [800/800 29:58, Epoch 20/20]\n",
       "    </div>\n",
       "    <table border=\"1\" class=\"dataframe\">\n",
       "  <thead>\n",
       " <tr style=\"text-align: left;\">\n",
       "      <th>Epoch</th>\n",
       "      <th>Training Loss</th>\n",
       "      <th>Validation Loss</th>\n",
       "      <th>Precision</th>\n",
       "      <th>Recall</th>\n",
       "      <th>F1</th>\n",
       "      <th>Accuracy</th>\n",
       "    </tr>\n",
       "  </thead>\n",
       "  <tbody>\n",
       "    <tr>\n",
       "      <td>1</td>\n",
       "      <td>No log</td>\n",
       "      <td>0.527059</td>\n",
       "      <td>0.568768</td>\n",
       "      <td>0.649437</td>\n",
       "      <td>0.606431</td>\n",
       "      <td>0.860717</td>\n",
       "    </tr>\n",
       "    <tr>\n",
       "      <td>2</td>\n",
       "      <td>No log</td>\n",
       "      <td>0.332797</td>\n",
       "      <td>0.684829</td>\n",
       "      <td>0.770867</td>\n",
       "      <td>0.725305</td>\n",
       "      <td>0.899401</td>\n",
       "    </tr>\n",
       "    <tr>\n",
       "      <td>3</td>\n",
       "      <td>No log</td>\n",
       "      <td>0.287917</td>\n",
       "      <td>0.715113</td>\n",
       "      <td>0.809200</td>\n",
       "      <td>0.759253</td>\n",
       "      <td>0.911802</td>\n",
       "    </tr>\n",
       "    <tr>\n",
       "      <td>4</td>\n",
       "      <td>No log</td>\n",
       "      <td>0.274959</td>\n",
       "      <td>0.756476</td>\n",
       "      <td>0.801657</td>\n",
       "      <td>0.778411</td>\n",
       "      <td>0.917416</td>\n",
       "    </tr>\n",
       "    <tr>\n",
       "      <td>5</td>\n",
       "      <td>No log</td>\n",
       "      <td>0.255764</td>\n",
       "      <td>0.771161</td>\n",
       "      <td>0.813404</td>\n",
       "      <td>0.791719</td>\n",
       "      <td>0.923373</td>\n",
       "    </tr>\n",
       "    <tr>\n",
       "      <td>6</td>\n",
       "      <td>No log</td>\n",
       "      <td>0.250172</td>\n",
       "      <td>0.761093</td>\n",
       "      <td>0.844194</td>\n",
       "      <td>0.800492</td>\n",
       "      <td>0.923680</td>\n",
       "    </tr>\n",
       "    <tr>\n",
       "      <td>7</td>\n",
       "      <td>No log</td>\n",
       "      <td>0.244034</td>\n",
       "      <td>0.770143</td>\n",
       "      <td>0.850995</td>\n",
       "      <td>0.808553</td>\n",
       "      <td>0.924997</td>\n",
       "    </tr>\n",
       "    <tr>\n",
       "      <td>8</td>\n",
       "      <td>No log</td>\n",
       "      <td>0.234873</td>\n",
       "      <td>0.774736</td>\n",
       "      <td>0.853963</td>\n",
       "      <td>0.812423</td>\n",
       "      <td>0.927633</td>\n",
       "    </tr>\n",
       "    <tr>\n",
       "      <td>9</td>\n",
       "      <td>No log</td>\n",
       "      <td>0.226635</td>\n",
       "      <td>0.790562</td>\n",
       "      <td>0.855571</td>\n",
       "      <td>0.821783</td>\n",
       "      <td>0.932398</td>\n",
       "    </tr>\n",
       "    <tr>\n",
       "      <td>10</td>\n",
       "      <td>No log</td>\n",
       "      <td>0.223449</td>\n",
       "      <td>0.807733</td>\n",
       "      <td>0.852479</td>\n",
       "      <td>0.829503</td>\n",
       "      <td>0.934817</td>\n",
       "    </tr>\n",
       "    <tr>\n",
       "      <td>11</td>\n",
       "      <td>No log</td>\n",
       "      <td>0.219707</td>\n",
       "      <td>0.805298</td>\n",
       "      <td>0.860764</td>\n",
       "      <td>0.832108</td>\n",
       "      <td>0.935593</td>\n",
       "    </tr>\n",
       "    <tr>\n",
       "      <td>12</td>\n",
       "      <td>No log</td>\n",
       "      <td>0.219015</td>\n",
       "      <td>0.800250</td>\n",
       "      <td>0.869420</td>\n",
       "      <td>0.833402</td>\n",
       "      <td>0.935593</td>\n",
       "    </tr>\n",
       "    <tr>\n",
       "      <td>13</td>\n",
       "      <td>0.324300</td>\n",
       "      <td>0.220882</td>\n",
       "      <td>0.814322</td>\n",
       "      <td>0.863361</td>\n",
       "      <td>0.838125</td>\n",
       "      <td>0.936965</td>\n",
       "    </tr>\n",
       "    <tr>\n",
       "      <td>14</td>\n",
       "      <td>0.324300</td>\n",
       "      <td>0.220579</td>\n",
       "      <td>0.815581</td>\n",
       "      <td>0.867318</td>\n",
       "      <td>0.840654</td>\n",
       "      <td>0.937561</td>\n",
       "    </tr>\n",
       "    <tr>\n",
       "      <td>15</td>\n",
       "      <td>0.324300</td>\n",
       "      <td>0.221030</td>\n",
       "      <td>0.811125</td>\n",
       "      <td>0.870904</td>\n",
       "      <td>0.839952</td>\n",
       "      <td>0.936983</td>\n",
       "    </tr>\n",
       "    <tr>\n",
       "      <td>16</td>\n",
       "      <td>0.324300</td>\n",
       "      <td>0.215907</td>\n",
       "      <td>0.811050</td>\n",
       "      <td>0.873130</td>\n",
       "      <td>0.840946</td>\n",
       "      <td>0.938337</td>\n",
       "    </tr>\n",
       "    <tr>\n",
       "      <td>17</td>\n",
       "      <td>0.324300</td>\n",
       "      <td>0.217190</td>\n",
       "      <td>0.826723</td>\n",
       "      <td>0.866081</td>\n",
       "      <td>0.845945</td>\n",
       "      <td>0.940124</td>\n",
       "    </tr>\n",
       "    <tr>\n",
       "      <td>18</td>\n",
       "      <td>0.324300</td>\n",
       "      <td>0.217246</td>\n",
       "      <td>0.823164</td>\n",
       "      <td>0.869173</td>\n",
       "      <td>0.845543</td>\n",
       "      <td>0.939456</td>\n",
       "    </tr>\n",
       "    <tr>\n",
       "      <td>19</td>\n",
       "      <td>0.324300</td>\n",
       "      <td>0.218289</td>\n",
       "      <td>0.815629</td>\n",
       "      <td>0.876345</td>\n",
       "      <td>0.844897</td>\n",
       "      <td>0.938463</td>\n",
       "    </tr>\n",
       "    <tr>\n",
       "      <td>20</td>\n",
       "      <td>0.324300</td>\n",
       "      <td>0.217782</td>\n",
       "      <td>0.821097</td>\n",
       "      <td>0.873995</td>\n",
       "      <td>0.846721</td>\n",
       "      <td>0.939258</td>\n",
       "    </tr>\n",
       "  </tbody>\n",
       "</table><p>"
      ],
      "text/plain": [
       "<IPython.core.display.HTML object>"
      ]
     },
     "metadata": {},
     "output_type": "display_data"
    },
    {
     "data": {
      "text/plain": [
       "TrainOutput(global_step=800, training_loss=0.2501101016998291, metrics={'train_runtime': 1820.1361, 'train_samples_per_second': 6.988, 'train_steps_per_second': 0.44, 'total_flos': 1.1352646610408208e+16, 'train_loss': 0.2501101016998291, 'epoch': 20.0})"
      ]
     },
     "execution_count": 26,
     "metadata": {},
     "output_type": "execute_result"
    }
   ],
   "source": [
    "trainer.train()"
   ]
  },
  {
   "cell_type": "code",
   "execution_count": 27,
   "id": "1f7ce278",
   "metadata": {
    "execution": {
     "iopub.execute_input": "2024-04-26T18:27:25.460321Z",
     "iopub.status.busy": "2024-04-26T18:27:25.459913Z",
     "iopub.status.idle": "2024-04-26T18:27:26.241461Z",
     "shell.execute_reply": "2024-04-26T18:27:26.240166Z",
     "shell.execute_reply.started": "2024-04-26T18:27:25.460283Z"
    }
   },
   "outputs": [],
   "source": [
    "classifier = pipeline(\"ner\", model=model.merge_and_unload(), tokenizer=wp_tokenizer)"
   ]
  },
  {
   "cell_type": "markdown",
   "id": "c7e100ec",
   "metadata": {},
   "source": [
    "# Making the prediction"
   ]
  },
  {
   "cell_type": "code",
   "execution_count": 28,
   "id": "d846c51c",
   "metadata": {
    "execution": {
     "iopub.execute_input": "2024-04-26T18:27:26.248451Z",
     "iopub.status.busy": "2024-04-26T18:27:26.248124Z",
     "iopub.status.idle": "2024-04-26T18:27:26.592599Z",
     "shell.execute_reply": "2024-04-26T18:27:26.591361Z",
     "shell.execute_reply.started": "2024-04-26T18:27:26.248424Z"
    }
   },
   "outputs": [
    {
     "data": {
      "text/html": [
       "<div>\n",
       "<style scoped>\n",
       "    .dataframe tbody tr th:only-of-type {\n",
       "        vertical-align: middle;\n",
       "    }\n",
       "\n",
       "    .dataframe tbody tr th {\n",
       "        vertical-align: top;\n",
       "    }\n",
       "\n",
       "    .dataframe thead th {\n",
       "        text-align: right;\n",
       "    }\n",
       "</style>\n",
       "<table border=\"1\" class=\"dataframe\">\n",
       "  <thead>\n",
       "    <tr style=\"text-align: right;\">\n",
       "      <th></th>\n",
       "      <th>senences</th>\n",
       "      <th>id</th>\n",
       "    </tr>\n",
       "  </thead>\n",
       "  <tbody>\n",
       "    <tr>\n",
       "      <th>0</th>\n",
       "      <td>Владелец «Бирмингема» получил шесть лет тюрьмы...</td>\n",
       "      <td>584</td>\n",
       "    </tr>\n",
       "    <tr>\n",
       "      <th>1</th>\n",
       "      <td>Акция протеста на Майдане Независимости объявл...</td>\n",
       "      <td>585</td>\n",
       "    </tr>\n",
       "    <tr>\n",
       "      <th>2</th>\n",
       "      <td>Фольксваген может перейти под контроль Порше \\...</td>\n",
       "      <td>586</td>\n",
       "    </tr>\n",
       "    <tr>\n",
       "      <th>3</th>\n",
       "      <td>В Москве покажут фильмы Чарли Чаплина с живой ...</td>\n",
       "      <td>587</td>\n",
       "    </tr>\n",
       "    <tr>\n",
       "      <th>4</th>\n",
       "      <td>Чулпан Хаматова сыграет главную роль в фильме ...</td>\n",
       "      <td>588</td>\n",
       "    </tr>\n",
       "    <tr>\n",
       "      <th>...</th>\n",
       "      <td>...</td>\n",
       "      <td>...</td>\n",
       "    </tr>\n",
       "    <tr>\n",
       "      <th>60</th>\n",
       "      <td>ОБСЕ назвала референдум о статусе Крыма незако...</td>\n",
       "      <td>644</td>\n",
       "    </tr>\n",
       "    <tr>\n",
       "      <th>61</th>\n",
       "      <td>Египетского студента могут выслать из страны з...</td>\n",
       "      <td>645</td>\n",
       "    </tr>\n",
       "    <tr>\n",
       "      <th>62</th>\n",
       "      <td>Геннадий Онищенко отправлен в отставку\\nГеннад...</td>\n",
       "      <td>646</td>\n",
       "    </tr>\n",
       "    <tr>\n",
       "      <th>63</th>\n",
       "      <td>Племянник Алишера Усманова разбился в ДТП\\nВид...</td>\n",
       "      <td>647</td>\n",
       "    </tr>\n",
       "    <tr>\n",
       "      <th>64</th>\n",
       "      <td>Владимир Булавин назначен на новую должность —...</td>\n",
       "      <td>648</td>\n",
       "    </tr>\n",
       "  </tbody>\n",
       "</table>\n",
       "<p>65 rows × 2 columns</p>\n",
       "</div>"
      ],
      "text/plain": [
       "                                             senences   id\n",
       "0   Владелец «Бирмингема» получил шесть лет тюрьмы...  584\n",
       "1   Акция протеста на Майдане Независимости объявл...  585\n",
       "2   Фольксваген может перейти под контроль Порше \\...  586\n",
       "3   В Москве покажут фильмы Чарли Чаплина с живой ...  587\n",
       "4   Чулпан Хаматова сыграет главную роль в фильме ...  588\n",
       "..                                                ...  ...\n",
       "60  ОБСЕ назвала референдум о статусе Крыма незако...  644\n",
       "61  Египетского студента могут выслать из страны з...  645\n",
       "62  Геннадий Онищенко отправлен в отставку\\nГеннад...  646\n",
       "63  Племянник Алишера Усманова разбился в ДТП\\nВид...  647\n",
       "64  Владимир Булавин назначен на новую должность —...  648\n",
       "\n",
       "[65 rows x 2 columns]"
      ]
     },
     "execution_count": 28,
     "metadata": {},
     "output_type": "execute_result"
    }
   ],
   "source": [
    "dev_set = pd.read_json('data/test.jsonl', lines=True)\n",
    "dev_set"
   ]
  },
  {
   "cell_type": "code",
   "execution_count": 29,
   "id": "faa6496a",
   "metadata": {
    "execution": {
     "iopub.execute_input": "2024-04-26T18:27:26.594400Z",
     "iopub.status.busy": "2024-04-26T18:27:26.594061Z",
     "iopub.status.idle": "2024-04-26T18:27:29.164833Z",
     "shell.execute_reply": "2024-04-26T18:27:29.162954Z",
     "shell.execute_reply.started": "2024-04-26T18:27:26.594371Z"
    }
   },
   "outputs": [
    {
     "name": "stderr",
     "output_type": "stream",
     "text": [
      "huggingface/tokenizers: The current process just got forked, after parallelism has already been used. Disabling parallelism to avoid deadlocks...\n",
      "To disable this warning, you can either:\n",
      "\t- Avoid using `tokenizers` before the fork if possible\n",
      "\t- Explicitly set the environment variable TOKENIZERS_PARALLELISM=(true | false)\n",
      "huggingface/tokenizers: The current process just got forked, after parallelism has already been used. Disabling parallelism to avoid deadlocks...\n",
      "To disable this warning, you can either:\n",
      "\t- Avoid using `tokenizers` before the fork if possible\n",
      "\t- Explicitly set the environment variable TOKENIZERS_PARALLELISM=(true | false)\n"
     ]
    }
   ],
   "source": [
    "!rm -rf data\n",
    "!rm -rf wandb"
   ]
  },
  {
   "cell_type": "code",
   "execution_count": 30,
   "id": "53233d27",
   "metadata": {
    "execution": {
     "iopub.execute_input": "2024-04-26T18:27:29.173532Z",
     "iopub.status.busy": "2024-04-26T18:27:29.167040Z",
     "iopub.status.idle": "2024-04-26T18:29:23.531035Z",
     "shell.execute_reply": "2024-04-26T18:29:23.527593Z",
     "shell.execute_reply.started": "2024-04-26T18:27:29.173477Z"
    }
   },
   "outputs": [
    {
     "data": {
      "application/vnd.jupyter.widget-view+json": {
       "model_id": "bd78e64a5d6b43a1a994aeb552e0da63",
       "version_major": 2,
       "version_minor": 0
      },
      "text/plain": [
       "  0%|          | 0/65 [00:00<?, ?it/s]"
      ]
     },
     "metadata": {},
     "output_type": "display_data"
    },
    {
     "name": "stderr",
     "output_type": "stream",
     "text": [
      "Asking to truncate to max_length but no maximum length is provided and the model has no predefined maximum length. Default to no truncation.\n"
     ]
    }
   ],
   "source": [
    "results = []\n",
    "aggregation_strategy = 'average' # simple\n",
    "\n",
    "for sent in tqdm(dev_set.senences):\n",
    "    try:\n",
    "        tags = classifier(sent, aggregation_strategy=aggregation_strategy) # simple\n",
    "        tags = [(tag['start'], tag['end'] - 1, tag['entity_group']) for tag in tags]\n",
    "    except RuntimeError:\n",
    "        subsents = sent.split('\\n')\n",
    "        tags = []\n",
    "        offset = 0\n",
    "\n",
    "        for subsent in subsents:\n",
    "            if subsent == '':\n",
    "                offset += 1\n",
    "                continue\n",
    "            subtags = classifier(subsent, aggregation_strategy=aggregation_strategy)\n",
    "            subtags = [(tag['start'] + offset, tag['end'] + offset - 1, tag['entity_group']) for tag in subtags]\n",
    "            tags.extend(subtags)\n",
    "            offset += len(subsent) + 1\n",
    "\n",
    "    tags.sort()\n",
    "    new_tags = []\n",
    "    for tag in tags:\n",
    "        if len(new_tags) != 0 and tag[0] - new_tags[-1][1] <= 2 and new_tags[-1][2] == tag[2]:\n",
    "            new_tags[-1] = (new_tags[-1][0], tag[1], tag[2])\n",
    "        else:\n",
    "            new_tags.append(tag)\n",
    "    tags = new_tags\n",
    "\n",
    "    results.append(tags)"
   ]
  },
  {
   "cell_type": "code",
   "execution_count": 33,
   "id": "2a309179",
   "metadata": {
    "execution": {
     "iopub.execute_input": "2024-04-26T18:51:59.347525Z",
     "iopub.status.busy": "2024-04-26T18:51:59.346592Z",
     "iopub.status.idle": "2024-04-26T18:51:59.548825Z",
     "shell.execute_reply": "2024-04-26T18:51:59.547548Z",
     "shell.execute_reply.started": "2024-04-26T18:51:59.347482Z"
    }
   },
   "outputs": [],
   "source": [
    "output_file = \"test.jsonl\"\n",
    "\n",
    "# Check if the file exists and delete it\n",
    "if os.path.exists(output_file):\n",
    "    os.remove(output_file)\n",
    "\n",
    "for tags, _id in zip(results, dev_set['id']):\n",
    "    ner_list = [[start, end, tag] for start, end, tag in tags]\n",
    "    json_obj = {\"ners\": ner_list, \"id\": _id}\n",
    "\n",
    "    with open(output_file, \"a\") as f:\n",
    "        f.write(json.dumps(json_obj) + \"\\n\")"
   ]
  },
  {
   "cell_type": "code",
   "execution_count": 34,
   "id": "2d649747",
   "metadata": {
    "execution": {
     "iopub.execute_input": "2024-04-26T18:52:01.377143Z",
     "iopub.status.busy": "2024-04-26T18:52:01.376357Z",
     "iopub.status.idle": "2024-04-26T18:52:02.743605Z",
     "shell.execute_reply": "2024-04-26T18:52:02.742278Z",
     "shell.execute_reply.started": "2024-04-26T18:52:01.377097Z"
    }
   },
   "outputs": [
    {
     "name": "stdout",
     "output_type": "stream",
     "text": [
      "checkpoints  test.jsonl  test_merge.jsonl  wandb\n"
     ]
    }
   ],
   "source": [
    "!ls"
   ]
  },
  {
   "cell_type": "code",
   "execution_count": null,
   "id": "65ec6d47",
   "metadata": {},
   "outputs": [],
   "source": []
  }
 ],
 "metadata": {
  "kaggle": {
   "accelerator": "gpu",
   "dataSources": [],
   "dockerImageVersionId": 30699,
   "isGpuEnabled": true,
   "isInternetEnabled": true,
   "language": "python",
   "sourceType": "notebook"
  },
  "kernelspec": {
   "display_name": "Python 3 (ipykernel)",
   "language": "python",
   "name": "python3"
  },
  "language_info": {
   "codemirror_mode": {
    "name": "ipython",
    "version": 3
   },
   "file_extension": ".py",
   "mimetype": "text/x-python",
   "name": "python",
   "nbconvert_exporter": "python",
   "pygments_lexer": "ipython3",
   "version": "3.12.1"
  }
 },
 "nbformat": 4,
 "nbformat_minor": 5
}
