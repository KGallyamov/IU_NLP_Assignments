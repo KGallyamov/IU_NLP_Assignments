{
 "cells": [
  {
   "cell_type": "markdown",
   "metadata": {
    "id": "RKboZnAdgrRM"
   },
   "source": [
    "# [NLP] Assignment 1: Tokenization\n",
    "\n",
    "In this assignment, you need to tokenize the text of the Twitter(X) users posts(tweets). The assignment consists of two tasks. When you finish all the tasks, create a GitHub repository for this assignment (you can use this repo later for the other assignments) and submit this notebook in the repository. Leave `requirements.txt` file if your code requires additional installations. Submit the link to the repository in Moodle.\n",
    "\n",
    "The [data](https://drive.google.com/file/d/15x_wPAflvYQ2Xh38iNQGrqUIWLj5l5Nw/view?usp=share_link) contains 5 files whereby each contains 44 tweets. Each tweet is separated by a newline."
   ]
  },
  {
   "cell_type": "markdown",
   "metadata": {
    "id": "aLDjjAvemUP_"
   },
   "source": [
    "## Task 1. Tokenize some tweets manually (20 points)\n",
    "\n",
    "As a first task you need to tokenize first 15 tweets from `file2` by hand. This will allow you to understand the problem from a linguistic point of view. The guidelines for tweet tokenization are as follows:\n",
    "\n",
    "- Each smiley is a separate token\n",
    "- Each hashtag is an individual token. Each user reference is an individual token\n",
    "- If a word has spaces between them then it is converted to a single token\n",
    "- All punctuations are individual tokens. This includes double-quotes and single quotes also\n",
    "- A URL is a single token\n",
    "\n",
    "Example of output\n",
    "\n",
    "    Input tweet\n",
    "    @xfranman Old age has made N A T O!\n",
    "\n",
    "    Tokenized tweet (separated by comma)\n",
    "    @xfranman , Old , age , has , made , NATO , !"
   ]
  },
  {
   "cell_type": "markdown",
   "metadata": {
    "id": "7KKKwTidnzUw"
   },
   "source": [
    "\n",
    "    1. Input tweet\n",
    "    Camping in Maine for the weekend. Hey Dad, Mama Loves YOU: http://www.mamapalooza.com\n",
    "    1. Tokenized tweet\n",
    "    Camping , in , Maine , for , the , weekend , . , Hey , Dad , , , Mama , Loves , YOU , : , http://www.mamapalooza.com\n",
    "\n",
    "    2. Input tweet\n",
    "    Its american tradition bitch\n",
    "    2. Tokenized tweet\n",
    "    Its , american , tradition , bitch\n",
    "\n",
    "    3. Input tweet\n",
    "    @ThroughTheVoid They love it! The only pleasure they get in life. I actually do that. I'm sure I hear a tiny squeak... Then louder ones\n",
    "    3. Tokenized tweet\n",
    "    @ThroughTheVoid , They , love , it , ! , The , only , pleasure , they , get , in , life , . , I , actually , do , that , . , I , ' , m , sure , I , hear , a , tiny , squeak , ... Then , louder , ones\n",
    "\n",
    "    4. Input tweet\n",
    "    \" RT @latti: @AbsoHilare stop tweeting in church! Lol <--- \"\"I tweet because I'm happy, I tweet because I'm free\"\" LOL!\"\n",
    "    4. Tokenized tweet\n",
    "    \" , RT , @latti , : , @AbsoHilare , stop , tweeting , in , church , ! , Lol , <--- , \" , \" , I , tweet , because , I , ' , m , happy , , , I , tweet , because , I , ' , m , free , \" , \" , LOL , ! , \"\n",
    "\n",
    "    5. Input tweet\n",
    "    Samsung Mini S2 portable HDD graced with colors that perfectly match your tacky beach gear: Sammy's done it aga.. http://tinyurl.com/lb5p6m\n",
    "    5. Tokenized tweet\n",
    "    Samsung , Mini , S2 , portable , HDD , graced , with , colors , that , perfectly , match , your , tacky , beach , gear , : , Sammy , ' , s, done , it , aga , .. , http://tinyurl.com/lb5p6m\n",
    "\n",
    "    6. Input tweet\n",
    "    @dialloc congrats on finding your way over. it may be slow going at first. hang in there. it's kinda cool when u get up to speed.\n",
    "    6. Tokenized tweet\n",
    "    @dialloc , congrats , on , finding , your , way , over , . , , , it , may , be , slow , going , at , first , . , hang , in , there , . , it , ' , s , kinda , cool , when , u , get , up , to , speed , .\n",
    "    \n",
    "    7. Input tweet\n",
    "    iPhone activation delays continue, Apple offers $30 http://twt.gs/l3Ki\n",
    "    7. Tokenized tweet\n",
    "    iPhone , activation , delays , continue , , , Apple , offers , $30 , http://twt.gs/l3Ki\r\n",
    "    \n",
    "    8. Input tweet\n",
    "    RT @GoogleAtWork Gmail maximum attachment size now 25MB http://bit.ly/62mjw Nice!!!\n",
    "    8. Tokenized t\n",
    "    RT , @GoogleAtWork , Gmail , maximum , attachment , size , now , 25MB , http://bit.ly/62mjw , Nice , !!!weet\n",
    "    \n",
    "    9. Input tweet\n",
    "    RT @acfou The Ads Won Awards for Crispin; But Did Nothing for Client BurgerKing's Sales/Marketshare - Big Surprise - http://ping.fm/vw8TI\n",
    "    9. Tokenized tw    RT , @acfou , The , Ads , Won , Awards , for , Crispin , ; , But , Did , Nothing , for , Client , BurgerKing , ' , s , Sales/Marketshare , - , Big , Surprise , - , http://ping.fm/vw8TI\n",
    "        \n",
    "    10. Input tweet\n",
    "    Hey doll! Great I missed True Blood yday boo lol Rt @FrankBanuat78 @jhillstephens Hello Sunshine how are u today? :-)\n",
    "    10. Tokenized t\n",
    "    Hey , doll , ! , Great , I , missed , True , Blood , yday , boo , lol , Rt , @FrankBanuat78 , @jhillstephens , Hello , Sunshine , how , are , u , today , ? , :-)weet\n",
    "    \n",
    "    11. Input tweet\n",
    "    Australian artist Pogo made these free songs primarily from sampled audio from Alice In Wonderland. http://www.last.fm/music/Pogo/Wonderland\n",
    "    11. Tokenized t\n",
    "    Australian , artist , Pogo , made , these , free , songs , primarily , from , sampled , audio , from , Alice , In , Wonderland , . , http://www.last.fm/music/Pogo/Wonderlandweet\n",
    "    \n",
    "    12. Input tweet\n",
    "    @mppritchard they wanted to sell all the preorders & then sell all of the ones they had in stock to those that just walked in. Can't do both\n",
    "    12. Tokenized t\n",
    "    @mppritchard , they , wanted , to , sell , all , the , preorders , & , then , sell , all , of , the , ones , they , had , in , stock , to , those , that , just , walked , in , . , Can , ' , t , do , bothweet\n",
    "    \n",
    "    13. Input tweet\n",
    "    Incoming: Frightened Rabbit, Sept. 22 (Tucson): If Fat Cat Records is going to send three great bands from Scot.. http://tinyurl.com/nz6xcv\n",
    "    13. Tokenized t\n",
    "    Incoming , : , Frightened , Rabbit , , , Sept , . , 22 , (Tucson) , : , If , Fat , Cat , Records , is , going , to , send , three , great , bands , from , Scot , .. , http://tinyurl.com/nz6xcvweet\n",
    "    \n",
    "    14. Input tweet\n",
    "    Hey @ginoandfran please greet philip! (GinoandFran live > http://ustre.am/2YyQ)\n",
    "    14. Tokenized t\n",
    "    Hey , @ginoandfran , please , greet , philip , ! , (GinoandFran , live , > , http://ustre.am/2YyQ)weet\n",
    "    \n",
    "    15. Input tweet\n",
    "    Ik weet niet wie er achter de T-Mobile iPhone Twitter zit maar ik vind het niet echt 'corporate' taalgebruik... Best vreemd eigenlijk \n",
    "    15. Tokenized t\n",
    "    Ik , weet , niet , wie , er , achter , de , T-Mobile , iPhone , Twitter , zit , maar , ik , vind , het , niet , echt , ' , corporate , ' , taalgebruik , ... , Best , vreemd , eigenlijk    "
   ]
  },
  {
   "cell_type": "markdown",
   "metadata": {
    "id": "-2J2AD2nmUhi"
   },
   "source": [
    "## Task 2. Implement [Byte-Pair Encoding(BPE)](https://arxiv.org/pdf/1508.07909.pdf) Tokenizer (80 points)\n",
    "\n",
    "### Task 2.1. Implementation (60 points)\n",
    "\n",
    "Implement the tokenizer as the BPETokenizer class:\n",
    "* Implement `train` method that learns merges and builds the vocabulary of the specified `vocab_size` (25 points).\n",
    "* Implement `tokenize` method that should tokenize the text according to the learnt merges (25 points).\n",
    "\n",
    "Your code should have docstrings and comments (10 points)."
   ]
  },
  {
   "cell_type": "code",
   "execution_count": 3,
   "metadata": {},
   "outputs": [],
   "source": [
    "import re\n",
    "from typing import List\n",
    "from collections import Counter\n",
    "import numpy as np\n",
    "import pandas as pd\n",
    "import matplotlib.pyplot as plt\n",
    "from tqdm.auto import tqdm"
   ]
  },
  {
   "cell_type": "code",
   "execution_count": 20,
   "metadata": {},
   "outputs": [],
   "source": [
    "class BPETokenizer:\n",
    "    \n",
    "    def __init__(self, vocab_size: int, eos_symbol: str = '##') -> None:\n",
    "        self.vocab_size = vocab_size\n",
    "        self.vocab = None\n",
    "        self.eos_symbol = eos_symbol\n",
    "\n",
    "    @staticmethod\n",
    "    def _get_bigrams_freq(preproc_corpus: List[str]):\n",
    "        tokens_freq = Counter()\n",
    "        for word in preproc_corpus:\n",
    "            # word: 'a b c d ##'\n",
    "            tokens = word.split()\n",
    "            for i in range(len(tokens) - 1):\n",
    "                tokens_freq[(tokens[i], tokens[i + 1])] += 1\n",
    "        return tokens_freq\n",
    "    \n",
    "    def train(self, corpus: List[str]) -> None:\n",
    "        preprocessed_corpus = [' '.join(word) + f' {self.eos_symbol}' for words in corpus for word in words.split()]\n",
    "        self.vocab = set([c for sentence in corpus for c in sentence] + [self.eos_symbol])\n",
    "        initial_vocab_len = len(self.vocab)\n",
    "        for _ in tqdm(range(self.vocab_size - initial_vocab_len), leave=False, desc=f'Building vocab of {self.vocab_size} tokens'):\n",
    "            freq = BPETokenizer._get_bigrams_freq(preprocessed_corpus)\n",
    "            t1, t2 = freq.most_common(1)[0][0]\n",
    "            self.vocab.add(t1 + t2)\n",
    "            # Merge '... t1 t2 ...' into '... t1t2 ...'\n",
    "            for i in range(len(preprocessed_corpus)):\n",
    "                preprocessed_corpus[i] = preprocessed_corpus[i].replace(f'{t1} {t2}', f'{t1}{t2}')\n",
    "            \n",
    "\n",
    "    def tokenize(self, text: str) -> List[str]:\n",
    "        tokens = ['']\n",
    "        for c in text:\n",
    "            if c == ' ':\n",
    "                tokens[-1] += '##'\n",
    "                tokens.append('')\n",
    "            if tokens[-1] + c not in self.vocab and tokens[-1] in self.vocab:\n",
    "                tokens.append(c)\n",
    "            else:\n",
    "                tokens[-1] += c\n",
    "        return tokens"
   ]
  },
  {
   "cell_type": "code",
   "execution_count": 21,
   "metadata": {},
   "outputs": [],
   "source": [
    "lines = []\n",
    "for i in range(5):\n",
    "    with open(f'./data/file{i + 1}', 'r') as f:\n",
    "        lines.extend([line.strip() for line in f.readlines()])"
   ]
  },
  {
   "cell_type": "code",
   "execution_count": 22,
   "metadata": {},
   "outputs": [
    {
     "data": {
      "application/vnd.jupyter.widget-view+json": {
       "model_id": "",
       "version_major": 2,
       "version_minor": 0
      },
      "text/plain": [
       "Building vocab of 100 tokens: 0it [00:00, ?it/s]"
      ]
     },
     "metadata": {},
     "output_type": "display_data"
    },
    {
     "name": "stdout",
     "output_type": "stream",
     "text": [
      "BPE vocab size = 100\n",
      "['H', 'e', 'l', 'l', 'o##', ' ', 't', 'h', 'e', 'r', 'e', '!##', ' ', 'w', 'h', 'a', 't##', ' ', 'a', 'r', 'e##', ' ', 'y', 'o', 'u##', ' ', 'd', 'o', 'i', 'n', 'g', '?'] \n",
      "\n"
     ]
    },
    {
     "data": {
      "application/vnd.jupyter.widget-view+json": {
       "model_id": "",
       "version_major": 2,
       "version_minor": 0
      },
      "text/plain": [
       "Building vocab of 150 tokens:   0%|          | 0/7 [00:00<?, ?it/s]"
      ]
     },
     "metadata": {},
     "output_type": "display_data"
    },
    {
     "name": "stdout",
     "output_type": "stream",
     "text": [
      "BPE vocab size = 150\n",
      "['H', 'e', 'l', 'l', 'o##', ' ', 'th', 'er', 'e', '!##', ' ', 'w', 'h', 'a', 't##', ' ', 'a', 'r', 'e##', ' ', 'y', 'o', 'u##', ' ', 'd', 'o', 'in', 'g', '?'] \n",
      "\n"
     ]
    },
    {
     "data": {
      "application/vnd.jupyter.widget-view+json": {
       "model_id": "",
       "version_major": 2,
       "version_minor": 0
      },
      "text/plain": [
       "Building vocab of 750 tokens:   0%|          | 0/607 [00:00<?, ?it/s]"
      ]
     },
     "metadata": {},
     "output_type": "display_data"
    },
    {
     "name": "stdout",
     "output_type": "stream",
     "text": [
      "BPE vocab size = 750\n",
      "['He', 'll', 'o##', ' ', 'th', 'er', 'e', '!##', ' ', 'w', 'ha', 't##', ' ', 'ar', 'e##', ' ', 'y', 'ou##', ' ', 'do', 'ing', '?'] \n",
      "\n"
     ]
    }
   ],
   "source": [
    "sample_sentence = 'Hello there! what are you doing?'\n",
    "for vocab_size in [100, 150, 750]:\n",
    "    tok = BPETokenizer(vocab_size)\n",
    "    tok.train(lines)\n",
    "    print(f'BPE vocab size = {vocab_size}')\n",
    "    print(tok.tokenize(sample_sentence), '\\n')"
   ]
  },
  {
   "cell_type": "markdown",
   "metadata": {},
   "source": [
    "### Task 2.2. Analysis on Tweets Dataset (10 points)\n",
    "\n",
    "Train the BPE tokenizer on the tweets dataset. Try to tokenize the tweets with the tokenizer of different `vocab_size`. For example, train the BPE tokenizer with `vocab_size` of [base_vocab_size, 250, 500, 750, 1000]. Plot the dependency of the average length of the tokenized tweet by `vocab_size` to analyze how `vocab_size` affects the length of the tokenized tweet on average. Tell what `vocab_size` is preferrable and why."
   ]
  },
  {
   "cell_type": "code",
   "execution_count": 23,
   "metadata": {},
   "outputs": [
    {
     "data": {
      "application/vnd.jupyter.widget-view+json": {
       "model_id": "17f4a78d750d442c849da5e84b30c5dd",
       "version_major": 2,
       "version_minor": 0
      },
      "text/plain": [
       "  0%|          | 0/5 [00:00<?, ?it/s]"
      ]
     },
     "metadata": {},
     "output_type": "display_data"
    },
    {
     "data": {
      "application/vnd.jupyter.widget-view+json": {
       "model_id": "",
       "version_major": 2,
       "version_minor": 0
      },
      "text/plain": [
       "Building vocab of 143 tokens: 0it [00:00, ?it/s]"
      ]
     },
     "metadata": {},
     "output_type": "display_data"
    },
    {
     "data": {
      "application/vnd.jupyter.widget-view+json": {
       "model_id": "",
       "version_major": 2,
       "version_minor": 0
      },
      "text/plain": [
       "Building vocab of 250 tokens:   0%|          | 0/107 [00:00<?, ?it/s]"
      ]
     },
     "metadata": {},
     "output_type": "display_data"
    },
    {
     "data": {
      "application/vnd.jupyter.widget-view+json": {
       "model_id": "",
       "version_major": 2,
       "version_minor": 0
      },
      "text/plain": [
       "Building vocab of 500 tokens:   0%|          | 0/357 [00:00<?, ?it/s]"
      ]
     },
     "metadata": {},
     "output_type": "display_data"
    },
    {
     "data": {
      "application/vnd.jupyter.widget-view+json": {
       "model_id": "",
       "version_major": 2,
       "version_minor": 0
      },
      "text/plain": [
       "Building vocab of 750 tokens:   0%|          | 0/607 [00:00<?, ?it/s]"
      ]
     },
     "metadata": {},
     "output_type": "display_data"
    },
    {
     "data": {
      "application/vnd.jupyter.widget-view+json": {
       "model_id": "",
       "version_major": 2,
       "version_minor": 0
      },
      "text/plain": [
       "Building vocab of 1000 tokens:   0%|          | 0/857 [00:00<?, ?it/s]"
      ]
     },
     "metadata": {},
     "output_type": "display_data"
    }
   ],
   "source": [
    "average_lengths = []\n",
    "vocab_sizes = [len(set([c for sentence in lines for c in sentence])) + 1, 250, 500, 750, 1000]\n",
    "for vocab_size in tqdm(vocab_sizes):\n",
    "    tokenizer = BPETokenizer(vocab_size)\n",
    "    tokenizer.train(lines)\n",
    "    lengths = [len(tokenizer.tokenize(line)) for line in lines]\n",
    "    average_lengths.append(np.mean(lengths))"
   ]
  },
  {
   "cell_type": "code",
   "execution_count": 24,
   "metadata": {},
   "outputs": [
    {
     "data": {
      "image/png": "[encoded data removed]",
      "text/plain": [
       "<Figure size 640x480 with 1 Axes>"
      ]
     },
     "metadata": {},
     "output_type": "display_data"
    }
   ],
   "source": [
    "plt.plot(vocab_sizes, average_lengths)\n",
    "plt.title(\"BPE vocab size impact on number of tokens\")\n",
    "plt.xlabel(\"vocab size\")\n",
    "plt.ylabel(\"avg number of tokens\")\n",
    "plt.show();"
   ]
  },
  {
   "cell_type": "markdown",
   "metadata": {},
   "source": [
    "### Task 2.3. Analysis on Dataset of Different Language (10 points)\n",
    "\n",
    "Find a small dataset of texts in a language other than English. The dataset size should be not greater than several megabytes.\n",
    "\n",
    "Train the BPE tokenizer on the dataset that you found. Try to tokenize the sentences from this dataset with the tokenizer of different `vocab_size`. Plot the dependency of the average length of the tokenized sentence by `vocab_size` to analyze how `vocab_size` affects the length of the tokenized sentence on average.\n",
    "\n",
    "Tell how how the average length of the tokenized sentence differs from the average length of the tokenized tweet. Explain why. "
   ]
  },
  {
   "cell_type": "code",
   "execution_count": 27,
   "metadata": {},
   "outputs": [],
   "source": [
    "# The whole 50k dataset is too big for the task, so I'll take 0.1% of it\n",
    "imdb_dataset = pd.read_csv('./data/IMDB_dataset.csv')\n",
    "lines = imdb_dataset.review.tolist()[:500]"
   ]
  },
  {
   "cell_type": "code",
   "execution_count": 28,
   "metadata": {},
   "outputs": [
    {
     "data": {
      "application/vnd.jupyter.widget-view+json": {
       "model_id": "606ded8395d44089ad245099830d3bcb",
       "version_major": 2,
       "version_minor": 0
      },
      "text/plain": [
       "  0%|          | 0/5 [00:00<?, ?it/s]"
      ]
     },
     "metadata": {},
     "output_type": "display_data"
    },
    {
     "data": {
      "application/vnd.jupyter.widget-view+json": {
       "model_id": "",
       "version_major": 2,
       "version_minor": 0
      },
      "text/plain": [
       "Building vocab of 107 tokens: 0it [00:00, ?it/s]"
      ]
     },
     "metadata": {},
     "output_type": "display_data"
    },
    {
     "data": {
      "application/vnd.jupyter.widget-view+json": {
       "model_id": "",
       "version_major": 2,
       "version_minor": 0
      },
      "text/plain": [
       "Building vocab of 250 tokens:   0%|          | 0/143 [00:00<?, ?it/s]"
      ]
     },
     "metadata": {},
     "output_type": "display_data"
    },
    {
     "data": {
      "application/vnd.jupyter.widget-view+json": {
       "model_id": "",
       "version_major": 2,
       "version_minor": 0
      },
      "text/plain": [
       "Building vocab of 500 tokens:   0%|          | 0/393 [00:00<?, ?it/s]"
      ]
     },
     "metadata": {},
     "output_type": "display_data"
    },
    {
     "data": {
      "application/vnd.jupyter.widget-view+json": {
       "model_id": "",
       "version_major": 2,
       "version_minor": 0
      },
      "text/plain": [
       "Building vocab of 750 tokens:   0%|          | 0/643 [00:00<?, ?it/s]"
      ]
     },
     "metadata": {},
     "output_type": "display_data"
    },
    {
     "data": {
      "application/vnd.jupyter.widget-view+json": {
       "model_id": "",
       "version_major": 2,
       "version_minor": 0
      },
      "text/plain": [
       "Building vocab of 1000 tokens:   0%|          | 0/893 [00:00<?, ?it/s]"
      ]
     },
     "metadata": {},
     "output_type": "display_data"
    }
   ],
   "source": [
    "average_lengths = []\n",
    "vocab_sizes = [len(set([c for sentence in lines for c in sentence])) + 1, 250, 500, 750, 1000]\n",
    "for vocab_size in tqdm(vocab_sizes):\n",
    "    tokenizer = BPETokenizer(vocab_size)\n",
    "    tokenizer.train(lines)\n",
    "    lengths = [len(tokenizer.tokenize(line)) for line in lines]\n",
    "    average_lengths.append(np.mean(lengths))"
   ]
  },
  {
   "cell_type": "code",
   "execution_count": 29,
   "metadata": {},
   "outputs": [
    {
     "data": {
      "image/png": "[encoded data removed]",
      "text/plain": [
       "<Figure size 640x480 with 1 Axes>"
      ]
     },
     "metadata": {},
     "output_type": "display_data"
    }
   ],
   "source": [
    "plt.plot(vocab_sizes, average_lengths)\n",
    "plt.title(\"BPE vocab size impact on number of tokens\")\n",
    "plt.xlabel(\"vocab size\")\n",
    "plt.ylabel(\"avg number of tokens\")\n",
    "plt.show();"
   ]
  },
  {
   "cell_type": "code",
   "execution_count": 30,
   "metadata": {},
   "outputs": [
    {
     "name": "stdout",
     "output_type": "stream",
     "text": [
      "['He', 'l', 'lo##', ' ', 'the', 're', '!##', ' ', 'wh', 'at##', ' ', 'ar', 'e##', ' ', 'y', 'ou##', ' ', 'do', 'ing', '?'] \n",
      "\n"
     ]
    }
   ],
   "source": [
    "print(tokenizer.tokenize(sample_sentence), '\\n')"
   ]
  },
  {
   "cell_type": "code",
   "execution_count": null,
   "metadata": {},
   "outputs": [],
   "source": []
  }
 ],
 "metadata": {
  "colab": {
   "provenance": [],
   "toc_visible": true
  },
  "kernelspec": {
   "display_name": "Python 3 (ipykernel)",
   "language": "python",
   "name": "python3"
  },
  "language_info": {
   "codemirror_mode": {
    "name": "ipython",
    "version": 3
   },
   "file_extension": ".py",
   "mimetype": "text/x-python",
   "name": "python",
   "nbconvert_exporter": "python",
   "pygments_lexer": "ipython3",
   "version": "3.9.0"
  }
 },
 "nbformat": 4,
 "nbformat_minor": 4
}
